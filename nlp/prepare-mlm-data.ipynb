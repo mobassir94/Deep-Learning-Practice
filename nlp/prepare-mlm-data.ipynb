{
 "cells": [
  {
   "cell_type": "markdown",
   "id": "ead1f602",
   "metadata": {
    "papermill": {
     "duration": 0.007769,
     "end_time": "2022-08-09T14:17:57.368419",
     "exception": false,
     "start_time": "2022-08-09T14:17:57.360650",
     "status": "completed"
    },
    "tags": []
   },
   "source": [
    "datasets used  \n",
    "\n",
    "[autocorrect](https://www.kaggle.com/datasets/kaggleqrdl/autocorrect) \n",
    "\n",
    "[contractions==0.1.72](https://pypi.org/project/contractions/0.1.72/)\n",
    "\n",
    "[Feedback Prize - Predicting Effective Arguments](https://www.kaggle.com/competitions/feedback-prize-effectiveness)\n",
    "\n",
    "[Feedback Prize - Evaluating Student Writing](https://www.kaggle.com/competitions/feedback-prize-2021)"
   ]
  },
  {
   "cell_type": "markdown",
   "id": "be9aec53",
   "metadata": {
    "papermill": {
     "duration": 0.006107,
     "end_time": "2022-08-09T14:17:57.381055",
     "exception": false,
     "start_time": "2022-08-09T14:17:57.374948",
     "status": "completed"
    },
    "tags": []
   },
   "source": [
    "[reference notebook](https://www.kaggle.com/code/shigengtian/prepare-mlm-data)"
   ]
  },
  {
   "cell_type": "code",
   "execution_count": 1,
   "id": "5dded8a0",
   "metadata": {
    "execution": {
     "iopub.execute_input": "2022-08-09T14:17:57.396083Z",
     "iopub.status.busy": "2022-08-09T14:17:57.395396Z",
     "iopub.status.idle": "2022-08-09T14:18:54.030286Z",
     "shell.execute_reply": "2022-08-09T14:18:54.028631Z"
    },
    "papermill": {
     "duration": 56.645882,
     "end_time": "2022-08-09T14:18:54.033310",
     "exception": false,
     "start_time": "2022-08-09T14:17:57.387428",
     "status": "completed"
    },
    "tags": []
   },
   "outputs": [],
   "source": [
    "%%capture\n",
    "\n",
    "!pip install ../input/pycontractions/results/anyascii-0.3.1-py3-none-any.whl\n",
    "!pip install ../input/pycontractions/results/pyahocorasick-1.4.4-cp37-cp37m-manylinux_2_17_x86_64.manylinux2014_x86_64.whl\n",
    "!pip install ../input/pycontractions/results/textsearch-0.0.21-py2.py3-none-any.whl\n",
    "!pip install ../input/pycontractions/results/contractions-0.1.72-py2.py3-none-any.whl\n",
    "!pip install -q \"../input/autocorrect/autocorrect-2.6.1.tar\"\n",
    "\n",
    "import contractions\n",
    "import pandas as pd\n",
    "import os\n",
    "import re\n",
    "import codecs\n",
    "from typing import Dict, List, Tuple\n",
    "from text_unidecode import unidecode\n"
   ]
  },
  {
   "cell_type": "code",
   "execution_count": 2,
   "id": "9b9861a1",
   "metadata": {
    "execution": {
     "iopub.execute_input": "2022-08-09T14:18:54.049176Z",
     "iopub.status.busy": "2022-08-09T14:18:54.048163Z",
     "iopub.status.idle": "2022-08-09T14:18:54.053440Z",
     "shell.execute_reply": "2022-08-09T14:18:54.052448Z"
    },
    "papermill": {
     "duration": 0.015767,
     "end_time": "2022-08-09T14:18:54.055928",
     "exception": false,
     "start_time": "2022-08-09T14:18:54.040161",
     "status": "completed"
    },
    "tags": []
   },
   "outputs": [],
   "source": [
    "input_path_2021 = '../input/feedback-prize-2021/'\n",
    "input_path_2022 = '../input/feedback-prize-effectiveness/'"
   ]
  },
  {
   "cell_type": "code",
   "execution_count": 3,
   "id": "dda12b36",
   "metadata": {
    "execution": {
     "iopub.execute_input": "2022-08-09T14:18:54.071100Z",
     "iopub.status.busy": "2022-08-09T14:18:54.070715Z",
     "iopub.status.idle": "2022-08-09T14:19:00.149753Z",
     "shell.execute_reply": "2022-08-09T14:19:00.148700Z"
    },
    "papermill": {
     "duration": 6.089452,
     "end_time": "2022-08-09T14:19:00.152326",
     "exception": false,
     "start_time": "2022-08-09T14:18:54.062874",
     "status": "completed"
    },
    "tags": []
   },
   "outputs": [],
   "source": [
    "# train_2021=pd.read_csv(input_path_2021 + 'train.csv')\n",
    "train_2022=pd.read_csv(input_path_2022 + 'train.csv')\n",
    "train_2021 = pd.read_csv('../input/deberta-v3-large-feedback-pseudo/pseudo616.csv')"
   ]
  },
  {
   "cell_type": "code",
   "execution_count": 4,
   "id": "f7396a4c",
   "metadata": {
    "execution": {
     "iopub.execute_input": "2022-08-09T14:19:00.167601Z",
     "iopub.status.busy": "2022-08-09T14:19:00.166838Z",
     "iopub.status.idle": "2022-08-09T14:19:00.180640Z",
     "shell.execute_reply": "2022-08-09T14:19:00.179557Z"
    },
    "papermill": {
     "duration": 0.023889,
     "end_time": "2022-08-09T14:19:00.182901",
     "exception": false,
     "start_time": "2022-08-09T14:19:00.159012",
     "status": "completed"
    },
    "tags": []
   },
   "outputs": [],
   "source": [
    "# https://www.kaggle.com/code/brandonhu0215/feedback-deberta-large-lb0-619\n",
    "\n",
    "def replace_encoding_with_utf8(error: UnicodeError) -> Tuple[bytes, int]:\n",
    "    return error.object[error.start : error.end].encode(\"utf-8\"), error.end\n",
    "\n",
    "\n",
    "def replace_decoding_with_cp1252(error: UnicodeError) -> Tuple[str, int]:\n",
    "    return error.object[error.start : error.end].decode(\"cp1252\"), error.end\n",
    "\n",
    "codecs.register_error(\"replace_encoding_with_utf8\", replace_encoding_with_utf8)\n",
    "codecs.register_error(\"replace_decoding_with_cp1252\", replace_decoding_with_cp1252)\n",
    "\n",
    "\n",
    "def resolve_encodings_and_normalize(text: str) -> str:\n",
    "    text = (\n",
    "        text.encode(\"raw_unicode_escape\")\n",
    "        .decode(\"utf-8\", errors=\"replace_decoding_with_cp1252\")\n",
    "        .encode(\"cp1252\", errors=\"replace_encoding_with_utf8\")\n",
    "        .decode(\"utf-8\", errors=\"replace_decoding_with_cp1252\")\n",
    "    )\n",
    "    \n",
    "    text = unidecode(text)\n",
    "    \n",
    "    return text\n",
    "\n",
    "\n",
    "def fetch_essay(essay_id: str, txt_dir: str):\n",
    "    essay_path = os.path.join(input_path_2022 + txt_dir, essay_id + '.txt')\n",
    "    # print(input_path_2022 + txt_dir, essay_id + '.txt')\n",
    "    essay_text = open(essay_path, 'r').read()\n",
    "    \n",
    "    return essay_text"
   ]
  },
  {
   "cell_type": "code",
   "execution_count": 5,
   "id": "c42e8b21",
   "metadata": {
    "execution": {
     "iopub.execute_input": "2022-08-09T14:19:00.197904Z",
     "iopub.status.busy": "2022-08-09T14:19:00.197556Z",
     "iopub.status.idle": "2022-08-09T14:19:59.515899Z",
     "shell.execute_reply": "2022-08-09T14:19:59.514853Z"
    },
    "papermill": {
     "duration": 59.329045,
     "end_time": "2022-08-09T14:19:59.518669",
     "exception": false,
     "start_time": "2022-08-09T14:19:00.189624",
     "status": "completed"
    },
    "tags": []
   },
   "outputs": [],
   "source": [
    "# df = test_origin.copy()\n",
    "# SEP = CFG.tokenizer.sep_token\n",
    "\n",
    "train_2022['discourse_text'] = train_2022['discourse_text'].apply(resolve_encodings_and_normalize)\n",
    "train_2022['essay_text'] = train_2022['essay_id'].transform(fetch_essay, txt_dir='train')\n",
    "train_2022['essay_text'] = train_2022['essay_text'].apply(resolve_encodings_and_normalize)\n",
    "# train_2022['text'] = train_2022['discourse_type'] + ' ' + train_2022['discourse_text'] + '[SEP]' + train_2022['essay_text']\n",
    "\n",
    "train_2022['text'] = train_2022['discourse_type'].str.lower() + ' ' + train_2022['discourse_text'].str.lower() + ' ' + train_2022['essay_text'].str.lower()"
   ]
  },
  {
   "cell_type": "code",
   "execution_count": 6,
   "id": "5b5a9a1d",
   "metadata": {
    "execution": {
     "iopub.execute_input": "2022-08-09T14:19:59.534895Z",
     "iopub.status.busy": "2022-08-09T14:19:59.534003Z",
     "iopub.status.idle": "2022-08-09T14:20:00.796327Z",
     "shell.execute_reply": "2022-08-09T14:20:00.795294Z"
    },
    "papermill": {
     "duration": 1.273112,
     "end_time": "2022-08-09T14:20:00.799002",
     "exception": false,
     "start_time": "2022-08-09T14:19:59.525890",
     "status": "completed"
    },
    "tags": []
   },
   "outputs": [],
   "source": [
    "# train_2021['discourse_text'] = train_2021['discourse_text'].apply(resolve_encodings_and_normalize)\n",
    "# train_2021['essay_text'] = train_2021['id'].transform(fetch_essay, txt_dir='train')\n",
    "# train_2021['essay_text'] = train_2021['essay_text'].apply(resolve_encodings_and_normalize)\n",
    "\n",
    "\n",
    "train_2021['text'] = train_2021['discourse_type'].str.lower() + ' ' + train_2021['discourse_text'].str.lower() + ' ' + train_2021['essay_text'].str.lower()"
   ]
  },
  {
   "cell_type": "code",
   "execution_count": 7,
   "id": "be34169a",
   "metadata": {
    "execution": {
     "iopub.execute_input": "2022-08-09T14:20:00.813858Z",
     "iopub.status.busy": "2022-08-09T14:20:00.813510Z",
     "iopub.status.idle": "2022-08-09T14:20:00.829526Z",
     "shell.execute_reply": "2022-08-09T14:20:00.828352Z"
    },
    "papermill": {
     "duration": 0.025947,
     "end_time": "2022-08-09T14:20:00.831750",
     "exception": false,
     "start_time": "2022-08-09T14:20:00.805803",
     "status": "completed"
    },
    "tags": []
   },
   "outputs": [],
   "source": [
    "train_2022['text'] = train_2022['text']\n",
    "train_2021['text'] = train_2021['text']"
   ]
  },
  {
   "cell_type": "code",
   "execution_count": 8,
   "id": "ba9de475",
   "metadata": {
    "execution": {
     "iopub.execute_input": "2022-08-09T14:20:00.847100Z",
     "iopub.status.busy": "2022-08-09T14:20:00.846406Z",
     "iopub.status.idle": "2022-08-09T14:20:00.907634Z",
     "shell.execute_reply": "2022-08-09T14:20:00.906497Z"
    },
    "papermill": {
     "duration": 0.07171,
     "end_time": "2022-08-09T14:20:00.910260",
     "exception": false,
     "start_time": "2022-08-09T14:20:00.838550",
     "status": "completed"
    },
    "tags": []
   },
   "outputs": [],
   "source": [
    "df1 = train_2022[['text']]\n",
    "df2 = train_2021[['text']]"
   ]
  },
  {
   "cell_type": "code",
   "execution_count": 9,
   "id": "0f9f01ac",
   "metadata": {
    "execution": {
     "iopub.execute_input": "2022-08-09T14:20:00.926334Z",
     "iopub.status.busy": "2022-08-09T14:20:00.925922Z",
     "iopub.status.idle": "2022-08-09T14:20:02.082516Z",
     "shell.execute_reply": "2022-08-09T14:20:02.081345Z"
    },
    "papermill": {
     "duration": 1.167604,
     "end_time": "2022-08-09T14:20:02.085666",
     "exception": false,
     "start_time": "2022-08-09T14:20:00.918062",
     "status": "completed"
    },
    "tags": []
   },
   "outputs": [
    {
     "data": {
      "text/html": [
       "<div>\n",
       "<style scoped>\n",
       "    .dataframe tbody tr th:only-of-type {\n",
       "        vertical-align: middle;\n",
       "    }\n",
       "\n",
       "    .dataframe tbody tr th {\n",
       "        vertical-align: top;\n",
       "    }\n",
       "\n",
       "    .dataframe thead th {\n",
       "        text-align: right;\n",
       "    }\n",
       "</style>\n",
       "<table border=\"1\" class=\"dataframe\">\n",
       "  <thead>\n",
       "    <tr style=\"text-align: right;\">\n",
       "      <th></th>\n",
       "      <th>text</th>\n",
       "    </tr>\n",
       "  </thead>\n",
       "  <tbody>\n",
       "    <tr>\n",
       "      <th>0</th>\n",
       "      <td>lead hi, i'm isaac, i'm going to be writing ab...</td>\n",
       "    </tr>\n",
       "    <tr>\n",
       "      <th>1</th>\n",
       "      <td>position on my perspective, i think that the f...</td>\n",
       "    </tr>\n",
       "    <tr>\n",
       "      <th>2</th>\n",
       "      <td>claim i think that the face is a natural landf...</td>\n",
       "    </tr>\n",
       "    <tr>\n",
       "      <th>3</th>\n",
       "      <td>evidence if life was on mars, we would know by...</td>\n",
       "    </tr>\n",
       "    <tr>\n",
       "      <th>4</th>\n",
       "      <td>counterclaim people thought that the face was ...</td>\n",
       "    </tr>\n",
       "  </tbody>\n",
       "</table>\n",
       "</div>"
      ],
      "text/plain": [
       "                                                text\n",
       "0  lead hi, i'm isaac, i'm going to be writing ab...\n",
       "1  position on my perspective, i think that the f...\n",
       "2  claim i think that the face is a natural landf...\n",
       "3  evidence if life was on mars, we would know by...\n",
       "4  counterclaim people thought that the face was ..."
      ]
     },
     "execution_count": 9,
     "metadata": {},
     "output_type": "execute_result"
    }
   ],
   "source": [
    "text_df  = pd.concat([df1, df2]).drop_duplicates()\n",
    "text_df.head()"
   ]
  },
  {
   "cell_type": "code",
   "execution_count": 10,
   "id": "8e633d63",
   "metadata": {
    "execution": {
     "iopub.execute_input": "2022-08-09T14:20:02.101886Z",
     "iopub.status.busy": "2022-08-09T14:20:02.101091Z",
     "iopub.status.idle": "2022-08-09T14:20:02.115934Z",
     "shell.execute_reply": "2022-08-09T14:20:02.114522Z"
    },
    "papermill": {
     "duration": 0.026298,
     "end_time": "2022-08-09T14:20:02.119065",
     "exception": false,
     "start_time": "2022-08-09T14:20:02.092767",
     "status": "completed"
    },
    "tags": []
   },
   "outputs": [
    {
     "name": "stdout",
     "output_type": "stream",
     "text": [
      "                                                     text\n",
      "0       lead hi, i'm isaac, i'm going to be writing ab...\n",
      "1       position on my perspective, i think that the f...\n",
      "2       claim i think that the face is a natural landf...\n",
      "3       evidence if life was on mars, we would know by...\n",
      "4       counterclaim people thought that the face was ...\n",
      "...                                                   ...\n",
      "144261  claim  misdeeds are when the advice-giver is p...\n",
      "144262  evidence an example of this is when you ask ge...\n",
      "144263  counterclaim now, i know what you probably say...\n",
      "144264  rebuttal  what are the odds that seven of your...\n",
      "144265  concluding statement the odds are in your favo...\n",
      "\n",
      "[144266 rows x 1 columns]\n",
      "\n",
      "\n",
      "\n",
      "\n"
     ]
    },
    {
     "data": {
      "text/plain": [
       "'lead hi, i\\'m isaac, i\\'m going to be writing about how this face on mars is a natural landform or if there is life on mars that made it. the story is about how nasa took a picture of mars and a face was seen on the planet. nasa doesn\\'t know if the landform was created by life on mars, or if it is just a natural landform.  hi, i\\'m isaac, i\\'m going to be writing about how this face on mars is a natural landform or if there is life on mars that made it. the story is about how nasa took a picture of mars and a face was seen on the planet. nasa doesn\\'t know if the landform was created by life on mars, or if it is just a natural landform. on my perspective, i think that the face is a natural landform because i dont think that there is any life on mars. in these next few paragraphs, i\\'ll be talking about how i think that is is a natural landform\\n\\ni think that the face is a natural landform because there is no life on mars that we have descovered yet. if life was on mars, we would know by now. the reason why i think it is a natural landform because, nobody live on mars in order to create the figure. it says in paragraph 9, \"it\\'s not easy to target cydonia,\" in which he is saying that its not easy to know if it is a natural landform at this point. in all that they\\'re saying, its probably a natural landform.\\n\\npeople thought that the face was formed by alieans because they thought that there was life on mars. though some say that life on mars does exist, i think that there is no life on mars.\\n\\nit says in paragraph 7, on april 5, 1998, mars global surveyor flew over cydonia for the first time. michael malin took a picture of mars with his orbiter camera, that the face was a natural landform. everyone who thought it was made by alieans even though it wasn\\'t, was not satisfied. i think they were not satisfied because they have thought since 1976 that it was really formed by alieans.\\n\\nthough people were not satified about how the landform was a natural landform, in all, we new that alieans did not form the face. i would like to know how the landform was formed. we know now that life on mars doesn\\'t exist.             '"
      ]
     },
     "execution_count": 10,
     "metadata": {},
     "output_type": "execute_result"
    }
   ],
   "source": [
    "text_df = text_df.reset_index(drop=True)\n",
    "print(text_df)\n",
    "print(\"\\n\\n\\n\")\n",
    "text_df.text[0]"
   ]
  },
  {
   "cell_type": "code",
   "execution_count": 11,
   "id": "65c2a846",
   "metadata": {
    "execution": {
     "iopub.execute_input": "2022-08-09T14:20:02.136026Z",
     "iopub.status.busy": "2022-08-09T14:20:02.135148Z",
     "iopub.status.idle": "2022-08-09T14:20:03.747449Z",
     "shell.execute_reply": "2022-08-09T14:20:03.746375Z"
    },
    "papermill": {
     "duration": 1.623727,
     "end_time": "2022-08-09T14:20:03.750152",
     "exception": false,
     "start_time": "2022-08-09T14:20:02.126425",
     "status": "completed"
    },
    "tags": []
   },
   "outputs": [],
   "source": [
    "\n",
    "from autocorrect import Speller\n",
    "import nltk\n",
    "from nltk.corpus import brown,words\n",
    "\n",
    "\n",
    "def autospell(text):\n",
    "    spell = Speller(lang='en', fast=False)\n",
    "    spells = [spell(w) for w in (nltk.word_tokenize(text))]\n",
    "    return \" \".join(spells) \n",
    "\n",
    "def __concat(object1, object2):\n",
    "    unicode = str\n",
    "    if isinstance(object1, str) or isinstance(object1, unicode):\n",
    "        object1 = [object1]\n",
    "    if isinstance(object2, str) or isinstance(object2, unicode):\n",
    "        object2 = [object2]\n",
    "    return object1 + object2\n",
    "\n",
    "\n",
    "def __capitalize_first_char(word):\n",
    "    return word[0].upper() + word[1:]\n",
    "\n",
    "\n",
    "def split(word, language='en'):\n",
    "    \n",
    "    dictionary = set(words.words())\n",
    "    max_index = len(word)\n",
    "    for index, char in enumerate(word):\n",
    "        left_compound = word[0:max_index-index]\n",
    "        right_compound_1 = word[max_index-index:max_index]\n",
    "        right_compound_2 = word[max_index-index+1:max_index]\n",
    "        if right_compound_1:\n",
    "            right_compound1_upper = right_compound_1[0].isupper()\n",
    "        if right_compound_2:\n",
    "            right_compound2_upper = right_compound_2[0].isupper()\n",
    "      \n",
    "        if index > 0 and len(left_compound) > 1 and not left_compound in dictionary:\n",
    "            left_compound = __capitalize_first_char(left_compound)\n",
    "        is_left_compound_valid_word = len(left_compound) > 1 and left_compound in dictionary\n",
    "        if is_left_compound_valid_word and \\\n",
    "                ((not split(right_compound_1, language) == '' and not right_compound1_upper) \\\n",
    "                or right_compound_1 == ''):\n",
    "            return [compound for compound in __concat(left_compound, split(right_compound_1, language))\\\n",
    "                    if not compound == '']\n",
    "        elif is_left_compound_valid_word and word[max_index-index:max_index-index+1] == 's' and \\\n",
    "            ((not split(right_compound_2, language) == '' and not right_compound2_upper) \\\n",
    "            or right_compound_2 == ''):\n",
    "            return [compound for compound in __concat(left_compound, split(right_compound_2, language))\\\n",
    "                    if not compound == '']\n",
    "  \n",
    "    if not word == '' and word in dictionary:\n",
    "        return [word]\n",
    "    \n",
    "    elif not word == '' and __capitalize_first_char(word) in dictionary:\n",
    "\n",
    "        return [__capitalize_first_char(word)]\n",
    "    else:\n",
    "        return \"\"\n",
    "def fixed_word(words):\n",
    "    words = words.lower() #without it the previous algo implementation didn't work for upper case char in middle\n",
    "    \n",
    "    expanded_words = []   \n",
    "    for word in words.split():\n",
    "        expanded_words.append(contractions.fix(word))  \n",
    "    words = ' '.join(expanded_words)\n",
    "    expanded_words = []\n",
    "    for word in words.split():\n",
    "        if(\"’\" in word):\n",
    "            expanded_words.append([word])\n",
    "            continue\n",
    "        if(\"sep\" == word):\n",
    "            expanded_words.append([word])\n",
    "            continue\n",
    "        output = split(word)\n",
    "        if(output == \"\"):\n",
    "            output = autospell(word)\n",
    "            output = [output]\n",
    "        expanded_words.append(output)\n",
    "        \n",
    "      \n",
    "\n",
    "    text = ' '.join(' '.join(l) for l in expanded_words) \n",
    "\n",
    "    return text\n",
    "\n"
   ]
  },
  {
   "cell_type": "code",
   "execution_count": 12,
   "id": "ef696d1a",
   "metadata": {
    "execution": {
     "iopub.execute_input": "2022-08-09T14:20:03.767377Z",
     "iopub.status.busy": "2022-08-09T14:20:03.766576Z",
     "iopub.status.idle": "2022-08-09T14:20:03.770689Z",
     "shell.execute_reply": "2022-08-09T14:20:03.769933Z"
    },
    "papermill": {
     "duration": 0.014996,
     "end_time": "2022-08-09T14:20:03.772723",
     "exception": false,
     "start_time": "2022-08-09T14:20:03.757727",
     "status": "completed"
    },
    "tags": []
   },
   "outputs": [],
   "source": [
    "# %%time\n",
    "\n",
    "# # for i in range(len(text_df)):\n",
    "# #     text_df.text[i] = fixed_word(text_df.text[i])"
   ]
  },
  {
   "cell_type": "code",
   "execution_count": 13,
   "id": "c3c5965b",
   "metadata": {
    "execution": {
     "iopub.execute_input": "2022-08-09T14:20:03.790130Z",
     "iopub.status.busy": "2022-08-09T14:20:03.789364Z",
     "iopub.status.idle": "2022-08-09T14:20:03.793789Z",
     "shell.execute_reply": "2022-08-09T14:20:03.793011Z"
    },
    "papermill": {
     "duration": 0.015568,
     "end_time": "2022-08-09T14:20:03.796096",
     "exception": false,
     "start_time": "2022-08-09T14:20:03.780528",
     "status": "completed"
    },
    "tags": []
   },
   "outputs": [],
   "source": [
    "# from spellchecker import SpellChecker\n",
    "\n",
    "# spell = SpellChecker()\n",
    "\n",
    "# # find those words that may be misspelled\n",
    "# misspelled = spell.unknown(['something', 'is', 'hapenning', 'artfactory'])\n",
    "\n",
    "# for word in misspelled:\n",
    "#     # Get the one `most likely` answer\n",
    "#     print(spell.correction(word))\n",
    "\n",
    "#     # Get a list of `likely` options\n",
    "#     print(spell.candidates(word))"
   ]
  },
  {
   "cell_type": "code",
   "execution_count": null,
   "id": "29107e84",
   "metadata": {
    "papermill": {
     "duration": 0.007624,
     "end_time": "2022-08-09T14:20:03.811563",
     "exception": false,
     "start_time": "2022-08-09T14:20:03.803939",
     "status": "completed"
    },
    "tags": []
   },
   "outputs": [],
   "source": []
  },
  {
   "cell_type": "code",
   "execution_count": 14,
   "id": "2e992d77",
   "metadata": {
    "execution": {
     "iopub.execute_input": "2022-08-09T14:20:03.828633Z",
     "iopub.status.busy": "2022-08-09T14:20:03.828024Z",
     "iopub.status.idle": "2022-08-09T14:20:06.880340Z",
     "shell.execute_reply": "2022-08-09T14:20:06.879195Z"
    },
    "papermill": {
     "duration": 3.063835,
     "end_time": "2022-08-09T14:20:06.882918",
     "exception": false,
     "start_time": "2022-08-09T14:20:03.819083",
     "status": "completed"
    },
    "tags": []
   },
   "outputs": [
    {
     "data": {
      "text/plain": [
       "'i am something of a paint r myself'"
      ]
     },
     "execution_count": 14,
     "metadata": {},
     "output_type": "execute_result"
    }
   ],
   "source": [
    "text = fixed_word(\"i'm somethng of a paintr myself\") \n",
    "text"
   ]
  },
  {
   "cell_type": "code",
   "execution_count": 15,
   "id": "22cfe99a",
   "metadata": {
    "execution": {
     "iopub.execute_input": "2022-08-09T14:20:06.900608Z",
     "iopub.status.busy": "2022-08-09T14:20:06.900213Z",
     "iopub.status.idle": "2022-08-09T14:20:06.904725Z",
     "shell.execute_reply": "2022-08-09T14:20:06.903524Z"
    },
    "papermill": {
     "duration": 0.016251,
     "end_time": "2022-08-09T14:20:06.907182",
     "exception": false,
     "start_time": "2022-08-09T14:20:06.890931",
     "status": "completed"
    },
    "tags": []
   },
   "outputs": [],
   "source": [
    "# !pip download Caribe\n",
    "# !pip install Caribe"
   ]
  },
  {
   "cell_type": "code",
   "execution_count": 16,
   "id": "dcd8a5ab",
   "metadata": {
    "execution": {
     "iopub.execute_input": "2022-08-09T14:20:06.924611Z",
     "iopub.status.busy": "2022-08-09T14:20:06.924219Z",
     "iopub.status.idle": "2022-08-09T14:20:35.789490Z",
     "shell.execute_reply": "2022-08-09T14:20:35.787046Z"
    },
    "papermill": {
     "duration": 28.880198,
     "end_time": "2022-08-09T14:20:35.795223",
     "exception": false,
     "start_time": "2022-08-09T14:20:06.915025",
     "status": "completed"
    },
    "tags": []
   },
   "outputs": [],
   "source": [
    "\n",
    "# import Caribe as cb\n",
    "from transformers import AutoTokenizer, AutoModelForSeq2SeqLM\n",
    "import pandas as pd\n",
    "\n",
    "# sentence = 'The smelt of sep fliwers bring back memories.'\n",
    "# standard = cb.phrase_decode(sentence)\n",
    "# standard = cb.trinidad_decode(standard)\n",
    "# fixed = cb.caribe_corrector(standard)\n",
    "# print(fixed)\n",
    "\n",
    "\n",
    "\n",
    "tokenizer1 = AutoTokenizer.from_pretrained(\"../input/spellcheckers/t5-base-spellchecker\")\n",
    "model1 = AutoModelForSeq2SeqLM.from_pretrained(\"../input/spellcheckers/t5-base-spellchecker\")\n",
    "max_length1 = 256\n",
    "\n",
    "tokenizer2 = AutoTokenizer.from_pretrained(\"../input/spellcheckers/spelling-correction-english-base\")\n",
    "model2 = AutoModelForSeq2SeqLM.from_pretrained(\"../input/spellcheckers/spelling-correction-english-base\")\n",
    "max_length2 = 2048\n"
   ]
  },
  {
   "cell_type": "code",
   "execution_count": 17,
   "id": "731c7a65",
   "metadata": {
    "execution": {
     "iopub.execute_input": "2022-08-09T14:20:35.819577Z",
     "iopub.status.busy": "2022-08-09T14:20:35.817475Z",
     "iopub.status.idle": "2022-08-09T14:20:35.830701Z",
     "shell.execute_reply": "2022-08-09T14:20:35.829824Z"
    },
    "papermill": {
     "duration": 0.028582,
     "end_time": "2022-08-09T14:20:35.834530",
     "exception": false,
     "start_time": "2022-08-09T14:20:35.805948",
     "status": "completed"
    },
    "tags": []
   },
   "outputs": [
    {
     "name": "stdout",
     "output_type": "stream",
     "text": [
      "cpu\n",
      "CPU times: user 336 µs, sys: 0 ns, total: 336 µs\n",
      "Wall time: 350 µs\n"
     ]
    }
   ],
   "source": [
    "%%time\n",
    "import torch\n",
    "import gc\n",
    "import re\n",
    "device = torch.device('cuda:0' if torch.cuda.is_available() else 'cpu')\n",
    "print(device)\n",
    "\n",
    "def correct(inputs,max_length,tokenizer,model):\n",
    "    sentences = re.split(r'(?<=\\w\\.)\\s', inputs)\n",
    "    model = model.to(device)\n",
    "    for i in range(len(sentences)):\n",
    "        expanded_words = [] \n",
    "        for word in sentences[i].split():\n",
    "            expanded_words.append(contractions.fix(word))\n",
    "        sentences[i] = \" \".join(expanded_words)\n",
    "        input_ids = tokenizer.encode(sentences[i],return_tensors='pt').to(device)\n",
    "        sample_output = model.generate(\n",
    "            input_ids,\n",
    "            do_sample=False,\n",
    "            num_beams=50, \n",
    "            max_length=max_length,\n",
    "            top_p=0.99,\n",
    "            num_return_sequences=1\n",
    "        )\n",
    "        sentences[i] = tokenizer.decode(sample_output[0], skip_special_tokens=True)\n",
    "        sentences[i] += '.'\n",
    "    del model\n",
    "    torch.cuda.empty_cache()\n",
    "    gc.collect()\n",
    "    return \" \".join(sentences)\n"
   ]
  },
  {
   "cell_type": "code",
   "execution_count": 18,
   "id": "8db4241f",
   "metadata": {
    "execution": {
     "iopub.execute_input": "2022-08-09T14:20:35.853893Z",
     "iopub.status.busy": "2022-08-09T14:20:35.853133Z",
     "iopub.status.idle": "2022-08-09T14:20:35.857623Z",
     "shell.execute_reply": "2022-08-09T14:20:35.856716Z"
    },
    "papermill": {
     "duration": 0.015859,
     "end_time": "2022-08-09T14:20:35.859747",
     "exception": false,
     "start_time": "2022-08-09T14:20:35.843888",
     "status": "completed"
    },
    "tags": []
   },
   "outputs": [],
   "source": [
    "# %%time\n",
    "# text_df1 = text_df.copy()\n",
    "# text_df.text = text_df['text'].apply(lambda x : correct(x,max_length1,tokenizer1,model1))\n",
    "# text"
   ]
  },
  {
   "cell_type": "code",
   "execution_count": 19,
   "id": "2aea3a20",
   "metadata": {
    "execution": {
     "iopub.execute_input": "2022-08-09T14:20:35.878701Z",
     "iopub.status.busy": "2022-08-09T14:20:35.877574Z",
     "iopub.status.idle": "2022-08-09T14:32:15.820097Z",
     "shell.execute_reply": "2022-08-09T14:32:15.818419Z"
    },
    "papermill": {
     "duration": 699.965705,
     "end_time": "2022-08-09T14:32:15.833761",
     "exception": false,
     "start_time": "2022-08-09T14:20:35.868056",
     "status": "completed"
    },
    "tags": []
   },
   "outputs": [
    {
     "name": "stdout",
     "output_type": "stream",
     "text": [
      "CPU times: user 11min 39s, sys: 276 ms, total: 11min 40s\n",
      "Wall time: 11min 39s\n"
     ]
    }
   ],
   "source": [
    "%%time\n",
    "\n",
    "for i in range(len(text_df)):\n",
    "    expanded_words = [] \n",
    "    for word in text_df.text[i].split():\n",
    "        expanded_words.append(contractions.fix(word))\n",
    "    text_df.text[i] = \" \".join(expanded_words)"
   ]
  },
  {
   "cell_type": "code",
   "execution_count": 20,
   "id": "099c2e3d",
   "metadata": {
    "execution": {
     "iopub.execute_input": "2022-08-09T14:32:15.851996Z",
     "iopub.status.busy": "2022-08-09T14:32:15.851606Z",
     "iopub.status.idle": "2022-08-09T14:32:24.311597Z",
     "shell.execute_reply": "2022-08-09T14:32:24.310573Z"
    },
    "papermill": {
     "duration": 8.472628,
     "end_time": "2022-08-09T14:32:24.314324",
     "exception": false,
     "start_time": "2022-08-09T14:32:15.841696",
     "status": "completed"
    },
    "tags": []
   },
   "outputs": [
    {
     "data": {
      "text/plain": [
       "(115413, 28853)"
      ]
     },
     "execution_count": 20,
     "metadata": {},
     "output_type": "execute_result"
    }
   ],
   "source": [
    "test = text_df.sample(frac = 0.2)\n",
    " \n",
    "# Creating dataframe with\n",
    "# rest of the 50% values\n",
    "train = text_df.drop(test.index)\n",
    "\n",
    "train.to_csv('train.txt', header=False, index=False)\n",
    "test.to_csv('test.txt', header=False, index=False)\n",
    "\n",
    "len(train),len(test)"
   ]
  },
  {
   "cell_type": "code",
   "execution_count": 21,
   "id": "292985db",
   "metadata": {
    "execution": {
     "iopub.execute_input": "2022-08-09T14:32:24.333376Z",
     "iopub.status.busy": "2022-08-09T14:32:24.332266Z",
     "iopub.status.idle": "2022-08-09T14:32:24.337807Z",
     "shell.execute_reply": "2022-08-09T14:32:24.336608Z"
    },
    "papermill": {
     "duration": 0.017478,
     "end_time": "2022-08-09T14:32:24.340218",
     "exception": false,
     "start_time": "2022-08-09T14:32:24.322740",
     "status": "completed"
    },
    "tags": []
   },
   "outputs": [],
   "source": [
    "# %%time\n",
    "\n",
    "# text_df1.text = text_df1['text'].apply(lambda x : correct(x,max_length2,tokenizer2,model2))\n",
    "# text"
   ]
  },
  {
   "cell_type": "code",
   "execution_count": 22,
   "id": "df2bb901",
   "metadata": {
    "execution": {
     "iopub.execute_input": "2022-08-09T14:32:24.358922Z",
     "iopub.status.busy": "2022-08-09T14:32:24.358530Z",
     "iopub.status.idle": "2022-08-09T14:32:24.363177Z",
     "shell.execute_reply": "2022-08-09T14:32:24.362165Z"
    },
    "papermill": {
     "duration": 0.016837,
     "end_time": "2022-08-09T14:32:24.365519",
     "exception": false,
     "start_time": "2022-08-09T14:32:24.348682",
     "status": "completed"
    },
    "tags": []
   },
   "outputs": [],
   "source": [
    "# test = text_df1.sample(frac = 0.2)\n",
    " \n",
    "# # Creating dataframe with\n",
    "# # rest of the 50% values\n",
    "# train = text_df1.drop(test.index)\n",
    "\n",
    "# train.to_csv('train1.txt', header=False, index=False)\n",
    "# test.to_csv('test1.txt', header=False, index=False)\n",
    "\n",
    "# len(train),len(test)"
   ]
  },
  {
   "cell_type": "markdown",
   "id": "aacd5b41",
   "metadata": {
    "papermill": {
     "duration": 0.008456,
     "end_time": "2022-08-09T14:32:24.382457",
     "exception": false,
     "start_time": "2022-08-09T14:32:24.374001",
     "status": "completed"
    },
    "tags": []
   },
   "source": [
    "# train tokenizer"
   ]
  },
  {
   "cell_type": "code",
   "execution_count": 23,
   "id": "c33b952c",
   "metadata": {
    "execution": {
     "iopub.execute_input": "2022-08-09T14:32:24.400941Z",
     "iopub.status.busy": "2022-08-09T14:32:24.400553Z",
     "iopub.status.idle": "2022-08-09T14:32:24.406575Z",
     "shell.execute_reply": "2022-08-09T14:32:24.405511Z"
    },
    "papermill": {
     "duration": 0.01793,
     "end_time": "2022-08-09T14:32:24.408739",
     "exception": false,
     "start_time": "2022-08-09T14:32:24.390809",
     "status": "completed"
    },
    "tags": []
   },
   "outputs": [],
   "source": [
    "def get_training_corpus():\n",
    "    dataset = text_df[\"text\"]\n",
    "    for start_idx in range(0, len(dataset), 1000):\n",
    "        samples = dataset[start_idx : start_idx + 1000]\n",
    "        yield samples\n",
    "training_corpus = get_training_corpus()\n"
   ]
  },
  {
   "cell_type": "code",
   "execution_count": 24,
   "id": "6a686be8",
   "metadata": {
    "execution": {
     "iopub.execute_input": "2022-08-09T14:32:24.427521Z",
     "iopub.status.busy": "2022-08-09T14:32:24.427124Z",
     "iopub.status.idle": "2022-08-09T14:32:24.434284Z",
     "shell.execute_reply": "2022-08-09T14:32:24.433292Z"
    },
    "papermill": {
     "duration": 0.019227,
     "end_time": "2022-08-09T14:32:24.436497",
     "exception": false,
     "start_time": "2022-08-09T14:32:24.417270",
     "status": "completed"
    },
    "tags": []
   },
   "outputs": [
    {
     "data": {
      "text/plain": [
       "<generator object get_training_corpus at 0x7fbbbb1c1dd0>"
      ]
     },
     "execution_count": 24,
     "metadata": {},
     "output_type": "execute_result"
    }
   ],
   "source": [
    "training_corpus"
   ]
  },
  {
   "cell_type": "code",
   "execution_count": 25,
   "id": "b0ddf3a1",
   "metadata": {
    "execution": {
     "iopub.execute_input": "2022-08-09T14:32:24.455257Z",
     "iopub.status.busy": "2022-08-09T14:32:24.454798Z",
     "iopub.status.idle": "2022-08-09T14:32:35.851958Z",
     "shell.execute_reply": "2022-08-09T14:32:35.850904Z"
    },
    "papermill": {
     "duration": 11.409351,
     "end_time": "2022-08-09T14:32:35.854528",
     "exception": false,
     "start_time": "2022-08-09T14:32:24.445177",
     "status": "completed"
    },
    "tags": []
   },
   "outputs": [
    {
     "data": {
      "application/vnd.jupyter.widget-view+json": {
       "model_id": "04c04d485e66487eac9dbf8d5ffde63a",
       "version_major": 2,
       "version_minor": 0
      },
      "text/plain": [
       "Downloading:   0%|          | 0.00/52.0 [00:00<?, ?B/s]"
      ]
     },
     "metadata": {},
     "output_type": "display_data"
    },
    {
     "data": {
      "application/vnd.jupyter.widget-view+json": {
       "model_id": "e91a3c842ad24eeabe453234aee69ccf",
       "version_major": 2,
       "version_minor": 0
      },
      "text/plain": [
       "Downloading:   0%|          | 0.00/2.35M [00:00<?, ?B/s]"
      ]
     },
     "metadata": {},
     "output_type": "display_data"
    },
    {
     "data": {
      "application/vnd.jupyter.widget-view+json": {
       "model_id": "6f03bbed4d9e402895118808953120c9",
       "version_major": 2,
       "version_minor": 0
      },
      "text/plain": [
       "Downloading:   0%|          | 0.00/580 [00:00<?, ?B/s]"
      ]
     },
     "metadata": {},
     "output_type": "display_data"
    },
    {
     "name": "stderr",
     "output_type": "stream",
     "text": [
      "Special tokens have been added in the vocabulary, make sure the associated word embeddings are fine-tuned or trained.\n",
      "/opt/conda/lib/python3.7/site-packages/transformers/convert_slow_tokenizer.py:435: UserWarning: The sentencepiece tokenizer that you are converting to a fast tokenizer uses the byte fallback option which is not implemented in the fast tokenizers. In practice this means that the fast version of the tokenizer can produce unknown tokens whereas the sentencepiece version would have converted these unknown tokens into a sequence of byte tokens matching the original piece of text.\n",
      "  \"The sentencepiece tokenizer that you are converting to a fast tokenizer uses the byte fallback option\"\n",
      "Special tokens have been added in the vocabulary, make sure the associated word embeddings are fine-tuned or trained.\n"
     ]
    },
    {
     "name": "stdout",
     "output_type": "stream",
     "text": [
      "True\n"
     ]
    }
   ],
   "source": [
    "from transformers import AutoTokenizer\n",
    "from transformers.models.deberta_v2 import DebertaV2TokenizerFast\n",
    "\n",
    "old_tokenizer = DebertaV2TokenizerFast.from_pretrained(\"microsoft/deberta-v3-large\")\n",
    "print(old_tokenizer.is_fast)"
   ]
  },
  {
   "cell_type": "code",
   "execution_count": 26,
   "id": "714d850f",
   "metadata": {
    "execution": {
     "iopub.execute_input": "2022-08-09T14:32:35.874752Z",
     "iopub.status.busy": "2022-08-09T14:32:35.874367Z",
     "iopub.status.idle": "2022-08-09T14:33:54.561952Z",
     "shell.execute_reply": "2022-08-09T14:33:54.560540Z"
    },
    "papermill": {
     "duration": 78.700817,
     "end_time": "2022-08-09T14:33:54.564658",
     "exception": false,
     "start_time": "2022-08-09T14:32:35.863841",
     "status": "completed"
    },
    "tags": []
   },
   "outputs": [
    {
     "name": "stdout",
     "output_type": "stream",
     "text": [
      "\n",
      "\n",
      "True\n"
     ]
    }
   ],
   "source": [
    "tokenizer = old_tokenizer.train_new_from_iterator(training_corpus, 52000)\n",
    "print(tokenizer.is_fast)"
   ]
  },
  {
   "cell_type": "code",
   "execution_count": 27,
   "id": "815621bb",
   "metadata": {
    "execution": {
     "iopub.execute_input": "2022-08-09T14:33:54.585292Z",
     "iopub.status.busy": "2022-08-09T14:33:54.584731Z",
     "iopub.status.idle": "2022-08-09T14:33:54.604479Z",
     "shell.execute_reply": "2022-08-09T14:33:54.603541Z"
    },
    "papermill": {
     "duration": 0.03262,
     "end_time": "2022-08-09T14:33:54.606651",
     "exception": false,
     "start_time": "2022-08-09T14:33:54.574031",
     "status": "completed"
    },
    "tags": []
   },
   "outputs": [
    {
     "data": {
      "text/plain": [
       "('debertav3new-tokenizer/tokenizer_config.json',\n",
       " 'debertav3new-tokenizer/special_tokens_map.json',\n",
       " 'debertav3new-tokenizer/tokenizer.json')"
      ]
     },
     "execution_count": 27,
     "metadata": {},
     "output_type": "execute_result"
    }
   ],
   "source": [
    "tokenizer.save_pretrained(\"debertav3new-tokenizer\")"
   ]
  },
  {
   "cell_type": "code",
   "execution_count": null,
   "id": "9a3f72f4",
   "metadata": {
    "papermill": {
     "duration": 0.008948,
     "end_time": "2022-08-09T14:33:54.624972",
     "exception": false,
     "start_time": "2022-08-09T14:33:54.616024",
     "status": "completed"
    },
    "tags": []
   },
   "outputs": [],
   "source": []
  }
 ],
 "metadata": {
  "kernelspec": {
   "display_name": "Python 3",
   "language": "python",
   "name": "python3"
  },
  "language_info": {
   "codemirror_mode": {
    "name": "ipython",
    "version": 3
   },
   "file_extension": ".py",
   "mimetype": "text/x-python",
   "name": "python",
   "nbconvert_exporter": "python",
   "pygments_lexer": "ipython3",
   "version": "3.7.12"
  },
  "papermill": {
   "default_parameters": {},
   "duration": 968.957085,
   "end_time": "2022-08-09T14:33:57.430471",
   "environment_variables": {},
   "exception": null,
   "input_path": "__notebook__.ipynb",
   "output_path": "__notebook__.ipynb",
   "parameters": {},
   "start_time": "2022-08-09T14:17:48.473386",
   "version": "2.3.4"
  },
  "widgets": {
   "application/vnd.jupyter.widget-state+json": {
    "state": {
     "04c04d485e66487eac9dbf8d5ffde63a": {
      "model_module": "@jupyter-widgets/controls",
      "model_module_version": "1.5.0",
      "model_name": "HBoxModel",
      "state": {
       "_dom_classes": [],
       "_model_module": "@jupyter-widgets/controls",
       "_model_module_version": "1.5.0",
       "_model_name": "HBoxModel",
       "_view_count": null,
       "_view_module": "@jupyter-widgets/controls",
       "_view_module_version": "1.5.0",
       "_view_name": "HBoxView",
       "box_style": "",
       "children": [
        "IPY_MODEL_b42f7afc0a6942548c83b76e9e7b284b",
        "IPY_MODEL_7f471fcfce754360af2683fba436f071",
        "IPY_MODEL_44b969f1e6b2419e9d13e4d75dfe99c9"
       ],
       "layout": "IPY_MODEL_2f6c95747f004164801b8a8f10b7cdac"
      }
     },
     "0ef5f3caedbe48a6a781e5a019a99f58": {
      "model_module": "@jupyter-widgets/controls",
      "model_module_version": "1.5.0",
      "model_name": "HTMLModel",
      "state": {
       "_dom_classes": [],
       "_model_module": "@jupyter-widgets/controls",
       "_model_module_version": "1.5.0",
       "_model_name": "HTMLModel",
       "_view_count": null,
       "_view_module": "@jupyter-widgets/controls",
       "_view_module_version": "1.5.0",
       "_view_name": "HTMLView",
       "description": "",
       "description_tooltip": null,
       "layout": "IPY_MODEL_7208e5dbdf4f4840b7444747deb1fca9",
       "placeholder": "​",
       "style": "IPY_MODEL_772189eb3de14aac9044db73bd1ee98f",
       "value": "Downloading: 100%"
      }
     },
     "109d62b73e1a47328cf9dfe8c66121e1": {
      "model_module": "@jupyter-widgets/controls",
      "model_module_version": "1.5.0",
      "model_name": "FloatProgressModel",
      "state": {
       "_dom_classes": [],
       "_model_module": "@jupyter-widgets/controls",
       "_model_module_version": "1.5.0",
       "_model_name": "FloatProgressModel",
       "_view_count": null,
       "_view_module": "@jupyter-widgets/controls",
       "_view_module_version": "1.5.0",
       "_view_name": "ProgressView",
       "bar_style": "success",
       "description": "",
       "description_tooltip": null,
       "layout": "IPY_MODEL_cebf42233c3a481bbabc8248e7f6f482",
       "max": 580.0,
       "min": 0.0,
       "orientation": "horizontal",
       "style": "IPY_MODEL_480ee546005b4d5a9662a9b5150e8310",
       "value": 580.0
      }
     },
     "1cb6c0b558ce4ff69beddeaa4f7b7733": {
      "model_module": "@jupyter-widgets/controls",
      "model_module_version": "1.5.0",
      "model_name": "HTMLModel",
      "state": {
       "_dom_classes": [],
       "_model_module": "@jupyter-widgets/controls",
       "_model_module_version": "1.5.0",
       "_model_name": "HTMLModel",
       "_view_count": null,
       "_view_module": "@jupyter-widgets/controls",
       "_view_module_version": "1.5.0",
       "_view_name": "HTMLView",
       "description": "",
       "description_tooltip": null,
       "layout": "IPY_MODEL_47f970d38e164186ae7534b57f4f7571",
       "placeholder": "​",
       "style": "IPY_MODEL_9a32f81a6ce24ecaaf4c6a6cfc60ab7d",
       "value": " 2.35M/2.35M [00:00&lt;00:00, 28.4MB/s]"
      }
     },
     "296ddf4532774a168062c5808be691fc": {
      "model_module": "@jupyter-widgets/controls",
      "model_module_version": "1.5.0",
      "model_name": "ProgressStyleModel",
      "state": {
       "_model_module": "@jupyter-widgets/controls",
       "_model_module_version": "1.5.0",
       "_model_name": "ProgressStyleModel",
       "_view_count": null,
       "_view_module": "@jupyter-widgets/base",
       "_view_module_version": "1.2.0",
       "_view_name": "StyleView",
       "bar_color": null,
       "description_width": ""
      }
     },
     "2f6c95747f004164801b8a8f10b7cdac": {
      "model_module": "@jupyter-widgets/base",
      "model_module_version": "1.2.0",
      "model_name": "LayoutModel",
      "state": {
       "_model_module": "@jupyter-widgets/base",
       "_model_module_version": "1.2.0",
       "_model_name": "LayoutModel",
       "_view_count": null,
       "_view_module": "@jupyter-widgets/base",
       "_view_module_version": "1.2.0",
       "_view_name": "LayoutView",
       "align_content": null,
       "align_items": null,
       "align_self": null,
       "border": null,
       "bottom": null,
       "display": null,
       "flex": null,
       "flex_flow": null,
       "grid_area": null,
       "grid_auto_columns": null,
       "grid_auto_flow": null,
       "grid_auto_rows": null,
       "grid_column": null,
       "grid_gap": null,
       "grid_row": null,
       "grid_template_areas": null,
       "grid_template_columns": null,
       "grid_template_rows": null,
       "height": null,
       "justify_content": null,
       "justify_items": null,
       "left": null,
       "margin": null,
       "max_height": null,
       "max_width": null,
       "min_height": null,
       "min_width": null,
       "object_fit": null,
       "object_position": null,
       "order": null,
       "overflow": null,
       "overflow_x": null,
       "overflow_y": null,
       "padding": null,
       "right": null,
       "top": null,
       "visibility": null,
       "width": null
      }
     },
     "39b75fef7fde4fbb81276777f923494f": {
      "model_module": "@jupyter-widgets/controls",
      "model_module_version": "1.5.0",
      "model_name": "FloatProgressModel",
      "state": {
       "_dom_classes": [],
       "_model_module": "@jupyter-widgets/controls",
       "_model_module_version": "1.5.0",
       "_model_name": "FloatProgressModel",
       "_view_count": null,
       "_view_module": "@jupyter-widgets/controls",
       "_view_module_version": "1.5.0",
       "_view_name": "ProgressView",
       "bar_style": "success",
       "description": "",
       "description_tooltip": null,
       "layout": "IPY_MODEL_bb56787c3e324890b31cb310ed0e4e8d",
       "max": 2464616.0,
       "min": 0.0,
       "orientation": "horizontal",
       "style": "IPY_MODEL_296ddf4532774a168062c5808be691fc",
       "value": 2464616.0
      }
     },
     "3bbab531f85943aa89c82991965ec4eb": {
      "model_module": "@jupyter-widgets/controls",
      "model_module_version": "1.5.0",
      "model_name": "DescriptionStyleModel",
      "state": {
       "_model_module": "@jupyter-widgets/controls",
       "_model_module_version": "1.5.0",
       "_model_name": "DescriptionStyleModel",
       "_view_count": null,
       "_view_module": "@jupyter-widgets/base",
       "_view_module_version": "1.2.0",
       "_view_name": "StyleView",
       "description_width": ""
      }
     },
     "44b969f1e6b2419e9d13e4d75dfe99c9": {
      "model_module": "@jupyter-widgets/controls",
      "model_module_version": "1.5.0",
      "model_name": "HTMLModel",
      "state": {
       "_dom_classes": [],
       "_model_module": "@jupyter-widgets/controls",
       "_model_module_version": "1.5.0",
       "_model_name": "HTMLModel",
       "_view_count": null,
       "_view_module": "@jupyter-widgets/controls",
       "_view_module_version": "1.5.0",
       "_view_name": "HTMLView",
       "description": "",
       "description_tooltip": null,
       "layout": "IPY_MODEL_fdac13da7d7443cbb377eaab1e141b93",
       "placeholder": "​",
       "style": "IPY_MODEL_91b64ec6c28f42cf86057d728203d716",
       "value": " 52.0/52.0 [00:00&lt;00:00, 1.61kB/s]"
      }
     },
     "47f970d38e164186ae7534b57f4f7571": {
      "model_module": "@jupyter-widgets/base",
      "model_module_version": "1.2.0",
      "model_name": "LayoutModel",
      "state": {
       "_model_module": "@jupyter-widgets/base",
       "_model_module_version": "1.2.0",
       "_model_name": "LayoutModel",
       "_view_count": null,
       "_view_module": "@jupyter-widgets/base",
       "_view_module_version": "1.2.0",
       "_view_name": "LayoutView",
       "align_content": null,
       "align_items": null,
       "align_self": null,
       "border": null,
       "bottom": null,
       "display": null,
       "flex": null,
       "flex_flow": null,
       "grid_area": null,
       "grid_auto_columns": null,
       "grid_auto_flow": null,
       "grid_auto_rows": null,
       "grid_column": null,
       "grid_gap": null,
       "grid_row": null,
       "grid_template_areas": null,
       "grid_template_columns": null,
       "grid_template_rows": null,
       "height": null,
       "justify_content": null,
       "justify_items": null,
       "left": null,
       "margin": null,
       "max_height": null,
       "max_width": null,
       "min_height": null,
       "min_width": null,
       "object_fit": null,
       "object_position": null,
       "order": null,
       "overflow": null,
       "overflow_x": null,
       "overflow_y": null,
       "padding": null,
       "right": null,
       "top": null,
       "visibility": null,
       "width": null
      }
     },
     "480ee546005b4d5a9662a9b5150e8310": {
      "model_module": "@jupyter-widgets/controls",
      "model_module_version": "1.5.0",
      "model_name": "ProgressStyleModel",
      "state": {
       "_model_module": "@jupyter-widgets/controls",
       "_model_module_version": "1.5.0",
       "_model_name": "ProgressStyleModel",
       "_view_count": null,
       "_view_module": "@jupyter-widgets/base",
       "_view_module_version": "1.2.0",
       "_view_name": "StyleView",
       "bar_color": null,
       "description_width": ""
      }
     },
     "4fcc71f6b67145ccbab1a659a42cdb2a": {
      "model_module": "@jupyter-widgets/base",
      "model_module_version": "1.2.0",
      "model_name": "LayoutModel",
      "state": {
       "_model_module": "@jupyter-widgets/base",
       "_model_module_version": "1.2.0",
       "_model_name": "LayoutModel",
       "_view_count": null,
       "_view_module": "@jupyter-widgets/base",
       "_view_module_version": "1.2.0",
       "_view_name": "LayoutView",
       "align_content": null,
       "align_items": null,
       "align_self": null,
       "border": null,
       "bottom": null,
       "display": null,
       "flex": null,
       "flex_flow": null,
       "grid_area": null,
       "grid_auto_columns": null,
       "grid_auto_flow": null,
       "grid_auto_rows": null,
       "grid_column": null,
       "grid_gap": null,
       "grid_row": null,
       "grid_template_areas": null,
       "grid_template_columns": null,
       "grid_template_rows": null,
       "height": null,
       "justify_content": null,
       "justify_items": null,
       "left": null,
       "margin": null,
       "max_height": null,
       "max_width": null,
       "min_height": null,
       "min_width": null,
       "object_fit": null,
       "object_position": null,
       "order": null,
       "overflow": null,
       "overflow_x": null,
       "overflow_y": null,
       "padding": null,
       "right": null,
       "top": null,
       "visibility": null,
       "width": null
      }
     },
     "6f03bbed4d9e402895118808953120c9": {
      "model_module": "@jupyter-widgets/controls",
      "model_module_version": "1.5.0",
      "model_name": "HBoxModel",
      "state": {
       "_dom_classes": [],
       "_model_module": "@jupyter-widgets/controls",
       "_model_module_version": "1.5.0",
       "_model_name": "HBoxModel",
       "_view_count": null,
       "_view_module": "@jupyter-widgets/controls",
       "_view_module_version": "1.5.0",
       "_view_name": "HBoxView",
       "box_style": "",
       "children": [
        "IPY_MODEL_d80198f727ff47a6a27f2b5e63542307",
        "IPY_MODEL_109d62b73e1a47328cf9dfe8c66121e1",
        "IPY_MODEL_f5ffde7c74d846e6bba3b2d07cca64b9"
       ],
       "layout": "IPY_MODEL_a924322225194e2fae78beeb1f18dce3"
      }
     },
     "7208e5dbdf4f4840b7444747deb1fca9": {
      "model_module": "@jupyter-widgets/base",
      "model_module_version": "1.2.0",
      "model_name": "LayoutModel",
      "state": {
       "_model_module": "@jupyter-widgets/base",
       "_model_module_version": "1.2.0",
       "_model_name": "LayoutModel",
       "_view_count": null,
       "_view_module": "@jupyter-widgets/base",
       "_view_module_version": "1.2.0",
       "_view_name": "LayoutView",
       "align_content": null,
       "align_items": null,
       "align_self": null,
       "border": null,
       "bottom": null,
       "display": null,
       "flex": null,
       "flex_flow": null,
       "grid_area": null,
       "grid_auto_columns": null,
       "grid_auto_flow": null,
       "grid_auto_rows": null,
       "grid_column": null,
       "grid_gap": null,
       "grid_row": null,
       "grid_template_areas": null,
       "grid_template_columns": null,
       "grid_template_rows": null,
       "height": null,
       "justify_content": null,
       "justify_items": null,
       "left": null,
       "margin": null,
       "max_height": null,
       "max_width": null,
       "min_height": null,
       "min_width": null,
       "object_fit": null,
       "object_position": null,
       "order": null,
       "overflow": null,
       "overflow_x": null,
       "overflow_y": null,
       "padding": null,
       "right": null,
       "top": null,
       "visibility": null,
       "width": null
      }
     },
     "772189eb3de14aac9044db73bd1ee98f": {
      "model_module": "@jupyter-widgets/controls",
      "model_module_version": "1.5.0",
      "model_name": "DescriptionStyleModel",
      "state": {
       "_model_module": "@jupyter-widgets/controls",
       "_model_module_version": "1.5.0",
       "_model_name": "DescriptionStyleModel",
       "_view_count": null,
       "_view_module": "@jupyter-widgets/base",
       "_view_module_version": "1.2.0",
       "_view_name": "StyleView",
       "description_width": ""
      }
     },
     "7f471fcfce754360af2683fba436f071": {
      "model_module": "@jupyter-widgets/controls",
      "model_module_version": "1.5.0",
      "model_name": "FloatProgressModel",
      "state": {
       "_dom_classes": [],
       "_model_module": "@jupyter-widgets/controls",
       "_model_module_version": "1.5.0",
       "_model_name": "FloatProgressModel",
       "_view_count": null,
       "_view_module": "@jupyter-widgets/controls",
       "_view_module_version": "1.5.0",
       "_view_name": "ProgressView",
       "bar_style": "success",
       "description": "",
       "description_tooltip": null,
       "layout": "IPY_MODEL_a01d6c7db218472da4634f611394713c",
       "max": 52.0,
       "min": 0.0,
       "orientation": "horizontal",
       "style": "IPY_MODEL_d0e26d956c96423e84c64349d3a1a76a",
       "value": 52.0
      }
     },
     "88cb3197b59848f9bfdb73202ecfc8cb": {
      "model_module": "@jupyter-widgets/controls",
      "model_module_version": "1.5.0",
      "model_name": "DescriptionStyleModel",
      "state": {
       "_model_module": "@jupyter-widgets/controls",
       "_model_module_version": "1.5.0",
       "_model_name": "DescriptionStyleModel",
       "_view_count": null,
       "_view_module": "@jupyter-widgets/base",
       "_view_module_version": "1.2.0",
       "_view_name": "StyleView",
       "description_width": ""
      }
     },
     "91b64ec6c28f42cf86057d728203d716": {
      "model_module": "@jupyter-widgets/controls",
      "model_module_version": "1.5.0",
      "model_name": "DescriptionStyleModel",
      "state": {
       "_model_module": "@jupyter-widgets/controls",
       "_model_module_version": "1.5.0",
       "_model_name": "DescriptionStyleModel",
       "_view_count": null,
       "_view_module": "@jupyter-widgets/base",
       "_view_module_version": "1.2.0",
       "_view_name": "StyleView",
       "description_width": ""
      }
     },
     "91f00a38828e4a4fb0689785da235185": {
      "model_module": "@jupyter-widgets/base",
      "model_module_version": "1.2.0",
      "model_name": "LayoutModel",
      "state": {
       "_model_module": "@jupyter-widgets/base",
       "_model_module_version": "1.2.0",
       "_model_name": "LayoutModel",
       "_view_count": null,
       "_view_module": "@jupyter-widgets/base",
       "_view_module_version": "1.2.0",
       "_view_name": "LayoutView",
       "align_content": null,
       "align_items": null,
       "align_self": null,
       "border": null,
       "bottom": null,
       "display": null,
       "flex": null,
       "flex_flow": null,
       "grid_area": null,
       "grid_auto_columns": null,
       "grid_auto_flow": null,
       "grid_auto_rows": null,
       "grid_column": null,
       "grid_gap": null,
       "grid_row": null,
       "grid_template_areas": null,
       "grid_template_columns": null,
       "grid_template_rows": null,
       "height": null,
       "justify_content": null,
       "justify_items": null,
       "left": null,
       "margin": null,
       "max_height": null,
       "max_width": null,
       "min_height": null,
       "min_width": null,
       "object_fit": null,
       "object_position": null,
       "order": null,
       "overflow": null,
       "overflow_x": null,
       "overflow_y": null,
       "padding": null,
       "right": null,
       "top": null,
       "visibility": null,
       "width": null
      }
     },
     "9a32f81a6ce24ecaaf4c6a6cfc60ab7d": {
      "model_module": "@jupyter-widgets/controls",
      "model_module_version": "1.5.0",
      "model_name": "DescriptionStyleModel",
      "state": {
       "_model_module": "@jupyter-widgets/controls",
       "_model_module_version": "1.5.0",
       "_model_name": "DescriptionStyleModel",
       "_view_count": null,
       "_view_module": "@jupyter-widgets/base",
       "_view_module_version": "1.2.0",
       "_view_name": "StyleView",
       "description_width": ""
      }
     },
     "a01d6c7db218472da4634f611394713c": {
      "model_module": "@jupyter-widgets/base",
      "model_module_version": "1.2.0",
      "model_name": "LayoutModel",
      "state": {
       "_model_module": "@jupyter-widgets/base",
       "_model_module_version": "1.2.0",
       "_model_name": "LayoutModel",
       "_view_count": null,
       "_view_module": "@jupyter-widgets/base",
       "_view_module_version": "1.2.0",
       "_view_name": "LayoutView",
       "align_content": null,
       "align_items": null,
       "align_self": null,
       "border": null,
       "bottom": null,
       "display": null,
       "flex": null,
       "flex_flow": null,
       "grid_area": null,
       "grid_auto_columns": null,
       "grid_auto_flow": null,
       "grid_auto_rows": null,
       "grid_column": null,
       "grid_gap": null,
       "grid_row": null,
       "grid_template_areas": null,
       "grid_template_columns": null,
       "grid_template_rows": null,
       "height": null,
       "justify_content": null,
       "justify_items": null,
       "left": null,
       "margin": null,
       "max_height": null,
       "max_width": null,
       "min_height": null,
       "min_width": null,
       "object_fit": null,
       "object_position": null,
       "order": null,
       "overflow": null,
       "overflow_x": null,
       "overflow_y": null,
       "padding": null,
       "right": null,
       "top": null,
       "visibility": null,
       "width": null
      }
     },
     "a924322225194e2fae78beeb1f18dce3": {
      "model_module": "@jupyter-widgets/base",
      "model_module_version": "1.2.0",
      "model_name": "LayoutModel",
      "state": {
       "_model_module": "@jupyter-widgets/base",
       "_model_module_version": "1.2.0",
       "_model_name": "LayoutModel",
       "_view_count": null,
       "_view_module": "@jupyter-widgets/base",
       "_view_module_version": "1.2.0",
       "_view_name": "LayoutView",
       "align_content": null,
       "align_items": null,
       "align_self": null,
       "border": null,
       "bottom": null,
       "display": null,
       "flex": null,
       "flex_flow": null,
       "grid_area": null,
       "grid_auto_columns": null,
       "grid_auto_flow": null,
       "grid_auto_rows": null,
       "grid_column": null,
       "grid_gap": null,
       "grid_row": null,
       "grid_template_areas": null,
       "grid_template_columns": null,
       "grid_template_rows": null,
       "height": null,
       "justify_content": null,
       "justify_items": null,
       "left": null,
       "margin": null,
       "max_height": null,
       "max_width": null,
       "min_height": null,
       "min_width": null,
       "object_fit": null,
       "object_position": null,
       "order": null,
       "overflow": null,
       "overflow_x": null,
       "overflow_y": null,
       "padding": null,
       "right": null,
       "top": null,
       "visibility": null,
       "width": null
      }
     },
     "b42f7afc0a6942548c83b76e9e7b284b": {
      "model_module": "@jupyter-widgets/controls",
      "model_module_version": "1.5.0",
      "model_name": "HTMLModel",
      "state": {
       "_dom_classes": [],
       "_model_module": "@jupyter-widgets/controls",
       "_model_module_version": "1.5.0",
       "_model_name": "HTMLModel",
       "_view_count": null,
       "_view_module": "@jupyter-widgets/controls",
       "_view_module_version": "1.5.0",
       "_view_name": "HTMLView",
       "description": "",
       "description_tooltip": null,
       "layout": "IPY_MODEL_4fcc71f6b67145ccbab1a659a42cdb2a",
       "placeholder": "​",
       "style": "IPY_MODEL_cbb00abbac0b4f629f2b75e2011e8000",
       "value": "Downloading: 100%"
      }
     },
     "bb56787c3e324890b31cb310ed0e4e8d": {
      "model_module": "@jupyter-widgets/base",
      "model_module_version": "1.2.0",
      "model_name": "LayoutModel",
      "state": {
       "_model_module": "@jupyter-widgets/base",
       "_model_module_version": "1.2.0",
       "_model_name": "LayoutModel",
       "_view_count": null,
       "_view_module": "@jupyter-widgets/base",
       "_view_module_version": "1.2.0",
       "_view_name": "LayoutView",
       "align_content": null,
       "align_items": null,
       "align_self": null,
       "border": null,
       "bottom": null,
       "display": null,
       "flex": null,
       "flex_flow": null,
       "grid_area": null,
       "grid_auto_columns": null,
       "grid_auto_flow": null,
       "grid_auto_rows": null,
       "grid_column": null,
       "grid_gap": null,
       "grid_row": null,
       "grid_template_areas": null,
       "grid_template_columns": null,
       "grid_template_rows": null,
       "height": null,
       "justify_content": null,
       "justify_items": null,
       "left": null,
       "margin": null,
       "max_height": null,
       "max_width": null,
       "min_height": null,
       "min_width": null,
       "object_fit": null,
       "object_position": null,
       "order": null,
       "overflow": null,
       "overflow_x": null,
       "overflow_y": null,
       "padding": null,
       "right": null,
       "top": null,
       "visibility": null,
       "width": null
      }
     },
     "c87dbfa81c7e4fb7b12952e74dad6474": {
      "model_module": "@jupyter-widgets/base",
      "model_module_version": "1.2.0",
      "model_name": "LayoutModel",
      "state": {
       "_model_module": "@jupyter-widgets/base",
       "_model_module_version": "1.2.0",
       "_model_name": "LayoutModel",
       "_view_count": null,
       "_view_module": "@jupyter-widgets/base",
       "_view_module_version": "1.2.0",
       "_view_name": "LayoutView",
       "align_content": null,
       "align_items": null,
       "align_self": null,
       "border": null,
       "bottom": null,
       "display": null,
       "flex": null,
       "flex_flow": null,
       "grid_area": null,
       "grid_auto_columns": null,
       "grid_auto_flow": null,
       "grid_auto_rows": null,
       "grid_column": null,
       "grid_gap": null,
       "grid_row": null,
       "grid_template_areas": null,
       "grid_template_columns": null,
       "grid_template_rows": null,
       "height": null,
       "justify_content": null,
       "justify_items": null,
       "left": null,
       "margin": null,
       "max_height": null,
       "max_width": null,
       "min_height": null,
       "min_width": null,
       "object_fit": null,
       "object_position": null,
       "order": null,
       "overflow": null,
       "overflow_x": null,
       "overflow_y": null,
       "padding": null,
       "right": null,
       "top": null,
       "visibility": null,
       "width": null
      }
     },
     "cbb00abbac0b4f629f2b75e2011e8000": {
      "model_module": "@jupyter-widgets/controls",
      "model_module_version": "1.5.0",
      "model_name": "DescriptionStyleModel",
      "state": {
       "_model_module": "@jupyter-widgets/controls",
       "_model_module_version": "1.5.0",
       "_model_name": "DescriptionStyleModel",
       "_view_count": null,
       "_view_module": "@jupyter-widgets/base",
       "_view_module_version": "1.2.0",
       "_view_name": "StyleView",
       "description_width": ""
      }
     },
     "cebf42233c3a481bbabc8248e7f6f482": {
      "model_module": "@jupyter-widgets/base",
      "model_module_version": "1.2.0",
      "model_name": "LayoutModel",
      "state": {
       "_model_module": "@jupyter-widgets/base",
       "_model_module_version": "1.2.0",
       "_model_name": "LayoutModel",
       "_view_count": null,
       "_view_module": "@jupyter-widgets/base",
       "_view_module_version": "1.2.0",
       "_view_name": "LayoutView",
       "align_content": null,
       "align_items": null,
       "align_self": null,
       "border": null,
       "bottom": null,
       "display": null,
       "flex": null,
       "flex_flow": null,
       "grid_area": null,
       "grid_auto_columns": null,
       "grid_auto_flow": null,
       "grid_auto_rows": null,
       "grid_column": null,
       "grid_gap": null,
       "grid_row": null,
       "grid_template_areas": null,
       "grid_template_columns": null,
       "grid_template_rows": null,
       "height": null,
       "justify_content": null,
       "justify_items": null,
       "left": null,
       "margin": null,
       "max_height": null,
       "max_width": null,
       "min_height": null,
       "min_width": null,
       "object_fit": null,
       "object_position": null,
       "order": null,
       "overflow": null,
       "overflow_x": null,
       "overflow_y": null,
       "padding": null,
       "right": null,
       "top": null,
       "visibility": null,
       "width": null
      }
     },
     "d0e26d956c96423e84c64349d3a1a76a": {
      "model_module": "@jupyter-widgets/controls",
      "model_module_version": "1.5.0",
      "model_name": "ProgressStyleModel",
      "state": {
       "_model_module": "@jupyter-widgets/controls",
       "_model_module_version": "1.5.0",
       "_model_name": "ProgressStyleModel",
       "_view_count": null,
       "_view_module": "@jupyter-widgets/base",
       "_view_module_version": "1.2.0",
       "_view_name": "StyleView",
       "bar_color": null,
       "description_width": ""
      }
     },
     "d54dd84f54314780a00bb15f46fcb3e7": {
      "model_module": "@jupyter-widgets/base",
      "model_module_version": "1.2.0",
      "model_name": "LayoutModel",
      "state": {
       "_model_module": "@jupyter-widgets/base",
       "_model_module_version": "1.2.0",
       "_model_name": "LayoutModel",
       "_view_count": null,
       "_view_module": "@jupyter-widgets/base",
       "_view_module_version": "1.2.0",
       "_view_name": "LayoutView",
       "align_content": null,
       "align_items": null,
       "align_self": null,
       "border": null,
       "bottom": null,
       "display": null,
       "flex": null,
       "flex_flow": null,
       "grid_area": null,
       "grid_auto_columns": null,
       "grid_auto_flow": null,
       "grid_auto_rows": null,
       "grid_column": null,
       "grid_gap": null,
       "grid_row": null,
       "grid_template_areas": null,
       "grid_template_columns": null,
       "grid_template_rows": null,
       "height": null,
       "justify_content": null,
       "justify_items": null,
       "left": null,
       "margin": null,
       "max_height": null,
       "max_width": null,
       "min_height": null,
       "min_width": null,
       "object_fit": null,
       "object_position": null,
       "order": null,
       "overflow": null,
       "overflow_x": null,
       "overflow_y": null,
       "padding": null,
       "right": null,
       "top": null,
       "visibility": null,
       "width": null
      }
     },
     "d80198f727ff47a6a27f2b5e63542307": {
      "model_module": "@jupyter-widgets/controls",
      "model_module_version": "1.5.0",
      "model_name": "HTMLModel",
      "state": {
       "_dom_classes": [],
       "_model_module": "@jupyter-widgets/controls",
       "_model_module_version": "1.5.0",
       "_model_name": "HTMLModel",
       "_view_count": null,
       "_view_module": "@jupyter-widgets/controls",
       "_view_module_version": "1.5.0",
       "_view_name": "HTMLView",
       "description": "",
       "description_tooltip": null,
       "layout": "IPY_MODEL_c87dbfa81c7e4fb7b12952e74dad6474",
       "placeholder": "​",
       "style": "IPY_MODEL_88cb3197b59848f9bfdb73202ecfc8cb",
       "value": "Downloading: 100%"
      }
     },
     "e91a3c842ad24eeabe453234aee69ccf": {
      "model_module": "@jupyter-widgets/controls",
      "model_module_version": "1.5.0",
      "model_name": "HBoxModel",
      "state": {
       "_dom_classes": [],
       "_model_module": "@jupyter-widgets/controls",
       "_model_module_version": "1.5.0",
       "_model_name": "HBoxModel",
       "_view_count": null,
       "_view_module": "@jupyter-widgets/controls",
       "_view_module_version": "1.5.0",
       "_view_name": "HBoxView",
       "box_style": "",
       "children": [
        "IPY_MODEL_0ef5f3caedbe48a6a781e5a019a99f58",
        "IPY_MODEL_39b75fef7fde4fbb81276777f923494f",
        "IPY_MODEL_1cb6c0b558ce4ff69beddeaa4f7b7733"
       ],
       "layout": "IPY_MODEL_91f00a38828e4a4fb0689785da235185"
      }
     },
     "f5ffde7c74d846e6bba3b2d07cca64b9": {
      "model_module": "@jupyter-widgets/controls",
      "model_module_version": "1.5.0",
      "model_name": "HTMLModel",
      "state": {
       "_dom_classes": [],
       "_model_module": "@jupyter-widgets/controls",
       "_model_module_version": "1.5.0",
       "_model_name": "HTMLModel",
       "_view_count": null,
       "_view_module": "@jupyter-widgets/controls",
       "_view_module_version": "1.5.0",
       "_view_name": "HTMLView",
       "description": "",
       "description_tooltip": null,
       "layout": "IPY_MODEL_d54dd84f54314780a00bb15f46fcb3e7",
       "placeholder": "​",
       "style": "IPY_MODEL_3bbab531f85943aa89c82991965ec4eb",
       "value": " 580/580 [00:00&lt;00:00, 19.4kB/s]"
      }
     },
     "fdac13da7d7443cbb377eaab1e141b93": {
      "model_module": "@jupyter-widgets/base",
      "model_module_version": "1.2.0",
      "model_name": "LayoutModel",
      "state": {
       "_model_module": "@jupyter-widgets/base",
       "_model_module_version": "1.2.0",
       "_model_name": "LayoutModel",
       "_view_count": null,
       "_view_module": "@jupyter-widgets/base",
       "_view_module_version": "1.2.0",
       "_view_name": "LayoutView",
       "align_content": null,
       "align_items": null,
       "align_self": null,
       "border": null,
       "bottom": null,
       "display": null,
       "flex": null,
       "flex_flow": null,
       "grid_area": null,
       "grid_auto_columns": null,
       "grid_auto_flow": null,
       "grid_auto_rows": null,
       "grid_column": null,
       "grid_gap": null,
       "grid_row": null,
       "grid_template_areas": null,
       "grid_template_columns": null,
       "grid_template_rows": null,
       "height": null,
       "justify_content": null,
       "justify_items": null,
       "left": null,
       "margin": null,
       "max_height": null,
       "max_width": null,
       "min_height": null,
       "min_width": null,
       "object_fit": null,
       "object_position": null,
       "order": null,
       "overflow": null,
       "overflow_x": null,
       "overflow_y": null,
       "padding": null,
       "right": null,
       "top": null,
       "visibility": null,
       "width": null
      }
     }
    },
    "version_major": 2,
    "version_minor": 0
   }
  }
 },
 "nbformat": 4,
 "nbformat_minor": 5
}
